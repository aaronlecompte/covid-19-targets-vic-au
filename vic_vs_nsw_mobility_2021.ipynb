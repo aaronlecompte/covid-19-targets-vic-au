{
  "cells": [
    {
      "cell_type": "code",
      "execution_count": 1,
      "metadata": {
        "id": "YKeZkAbpvxmv"
      },
      "outputs": [],
      "source": [
        "import pandas as pd\n",
        "import numpy as np\n",
        "%matplotlib inline\n",
        "import matplotlib.pyplot as plt\n",
        "import seaborn as sns\n",
        "from scipy.signal import savgol_filter\n",
        "from datetime import datetime"
      ]
    },
    {
      "cell_type": "code",
      "execution_count": 2,
      "metadata": {
        "id": "nnrGM0Vmvz_r"
      },
      "outputs": [],
      "source": [
        "import matplotlib.dates as mdates\n",
        "import matplotlib as mpl\n",
        "\n",
        "mpl.rcParams['font.family'] = 'Arial'"
      ]
    },
    {
      "cell_type": "code",
      "execution_count": 3,
      "metadata": {
        "id": "O_HNN31Cv1Hh"
      },
      "outputs": [],
      "source": [
        "PROJECT_ID = '<<INSERT PROJECT ID>>'"
      ]
    },
    {
      "cell_type": "code",
      "execution_count": 5,
      "metadata": {
        "colab": {
          "base_uri": "https://localhost:8080/"
        },
        "id": "r7HtJZ_EwO8I",
        "outputId": "92786b73-2ff1-48ef-9913-4f35f0f05316"
      },
      "outputs": [
        {
          "name": "stdout",
          "output_type": "stream",
          "text": [
            "Authenticated\n"
          ]
        }
      ],
      "source": [
        "from google.colab import auth\n",
        "auth.authenticate_user()\n",
        "print('Authenticated')"
      ]
    },
    {
      "cell_type": "code",
      "execution_count": 6,
      "metadata": {
        "id": "4ROiYwHTwO5A"
      },
      "outputs": [],
      "source": [
        "from google.cloud import bigquery\n",
        "\n",
        "client = bigquery.Client(project=PROJECT_ID)"
      ]
    },
    {
      "cell_type": "code",
      "execution_count": 13,
      "metadata": {
        "id": "lhF03AOJv62A"
      },
      "outputs": [],
      "source": [
        "df_comparison = client.query(f\"\"\" \n",
        "\n",
        "SELECT \n",
        "t0.date, \n",
        "t0.sub_region_1,\n",
        "t0.grocery_and_pharmacy_percent_change_from_baseline, \n",
        "t0.parks_percent_change_from_baseline, \n",
        "t0.retail_and_recreation_percent_change_from_baseline, \n",
        "t0.transit_stations_percent_change_from_baseline,\n",
        "t0.workplaces_percent_change_from_baseline\n",
        "FROM (SELECT \n",
        "*\n",
        " FROM `bigquery-public-data.covid19_google_mobility.mobility_report` \n",
        " WHERE country_region_code = 'AU'\n",
        " AND (sub_region_1 = 'New South Wales' \n",
        "   AND sub_region_2 IN (\n",
        "'Bankstown City Council',\n",
        "'Bayside Council',\n",
        "'Blue Mountains City Council',\n",
        "'Camden Council',\n",
        "'Campbelltown City Council',\n",
        "'Canterbury City Council',\n",
        "'City of Blacktown',\n",
        "'City of Canada Bay Council',\n",
        "'City of Liverpool',\n",
        "'City of Parramatta Council',\n",
        "'City of Willoughby',\n",
        "'Council of the City of Sydney',\n",
        "'Cumberland Council',\n",
        "'Fairfield City Council',\n",
        "'Hawkesbury City Council',\n",
        "'Inner West Council',\n",
        "'Ku-ring-gai Council',\n",
        "'Lane Cove Municipal Council',\n",
        "'Mosman Municipal Council',\n",
        "'North Sydney Council',\n",
        "'Northern Beaches Council',\n",
        "'Penrith City Council',\n",
        "'Randwick City Council',\n",
        "'Strathfield Municipal Council',\n",
        "'Sutherland Shire',\n",
        "'The Council of the Municipality of Hunters Hill',\n",
        "'The Council of the Shire of Hornsby',\n",
        "'The Hills Shire',\n",
        "'Waverley Council',\n",
        "'Wollondilly Shire Council',\n",
        "'Wollongong City Council',\n",
        "'Woollahra Municipal Council'\n",
        "\n",
        "   ))\n",
        "OR (sub_region_1 = 'Victoria'\n",
        " AND sub_region_2 IN (\n",
        "'Banyule City',\n",
        "'Bayside City',\n",
        "'Boroondara City',\n",
        "'Brimbank City',\n",
        "'Cardinia Shire',\n",
        "'City of Casey',\n",
        "'City of Hume',\n",
        "'City of Knox',\n",
        "'City of Maribyrnong',\n",
        "'City of Wyndham',\n",
        "'City of Yarra',\n",
        "'Darebin City',\n",
        "'Frankston City',\n",
        "'Glen Eira City',\n",
        "'Greater Dandenong City',\n",
        "'Hobsons Bay City',\n",
        "'Kingston City',\n",
        "'Manningham City',\n",
        "'Maroondah City',\n",
        "'Melbourne City',\n",
        "'Melton City',\n",
        "'Monash City',\n",
        "'Moonee Valley City',\n",
        "'Moreland City',\n",
        "'Nillumbik Shire',\n",
        "'Port Phillip City',\n",
        "'Shire of Mornington Peninsula',\n",
        "'Stonnington City',\n",
        "'Whitehorse City',\n",
        "'Whittlesea City',\n",
        "'Yarra Ranges Shire'\n",
        "\n",
        " ))\n",
        "\n",
        " ORDER BY 1, 2) AS t0; \n",
        "\"\"\").to_dataframe()"
      ]
    },
    {
      "cell_type": "code",
      "execution_count": 14,
      "metadata": {
        "colab": {
          "base_uri": "https://localhost:8080/",
          "height": 309
        },
        "id": "HX9uOn84wJPv",
        "outputId": "6a5ed9c9-83f5-413b-9175-ba6c5f59dfd3"
      },
      "outputs": [
        {
          "data": {
            "text/html": [
              "<div>\n",
              "<style scoped>\n",
              "    .dataframe tbody tr th:only-of-type {\n",
              "        vertical-align: middle;\n",
              "    }\n",
              "\n",
              "    .dataframe tbody tr th {\n",
              "        vertical-align: top;\n",
              "    }\n",
              "\n",
              "    .dataframe thead th {\n",
              "        text-align: right;\n",
              "    }\n",
              "</style>\n",
              "<table border=\"1\" class=\"dataframe\">\n",
              "  <thead>\n",
              "    <tr style=\"text-align: right;\">\n",
              "      <th></th>\n",
              "      <th>date</th>\n",
              "      <th>sub_region_1</th>\n",
              "      <th>grocery_and_pharmacy_percent_change_from_baseline</th>\n",
              "      <th>parks_percent_change_from_baseline</th>\n",
              "      <th>retail_and_recreation_percent_change_from_baseline</th>\n",
              "      <th>transit_stations_percent_change_from_baseline</th>\n",
              "      <th>workplaces_percent_change_from_baseline</th>\n",
              "    </tr>\n",
              "  </thead>\n",
              "  <tbody>\n",
              "    <tr>\n",
              "      <th>0</th>\n",
              "      <td>2020-03-18</td>\n",
              "      <td>New South Wales</td>\n",
              "      <td>34.0</td>\n",
              "      <td>-15.0</td>\n",
              "      <td>-1.0</td>\n",
              "      <td>-11.0</td>\n",
              "      <td>2.0</td>\n",
              "    </tr>\n",
              "    <tr>\n",
              "      <th>1</th>\n",
              "      <td>2020-04-19</td>\n",
              "      <td>New South Wales</td>\n",
              "      <td>4.0</td>\n",
              "      <td>9.0</td>\n",
              "      <td>-36.0</td>\n",
              "      <td>-44.0</td>\n",
              "      <td>-34.0</td>\n",
              "    </tr>\n",
              "    <tr>\n",
              "      <th>2</th>\n",
              "      <td>2020-06-04</td>\n",
              "      <td>New South Wales</td>\n",
              "      <td>18.0</td>\n",
              "      <td>14.0</td>\n",
              "      <td>-7.0</td>\n",
              "      <td>-25.0</td>\n",
              "      <td>-14.0</td>\n",
              "    </tr>\n",
              "    <tr>\n",
              "      <th>3</th>\n",
              "      <td>2020-06-10</td>\n",
              "      <td>New South Wales</td>\n",
              "      <td>6.0</td>\n",
              "      <td>-49.0</td>\n",
              "      <td>-9.0</td>\n",
              "      <td>-29.0</td>\n",
              "      <td>-15.0</td>\n",
              "    </tr>\n",
              "    <tr>\n",
              "      <th>4</th>\n",
              "      <td>2020-06-28</td>\n",
              "      <td>New South Wales</td>\n",
              "      <td>15.0</td>\n",
              "      <td>39.0</td>\n",
              "      <td>0.0</td>\n",
              "      <td>-13.0</td>\n",
              "      <td>-11.0</td>\n",
              "    </tr>\n",
              "  </tbody>\n",
              "</table>\n",
              "</div>"
            ],
            "text/plain": [
              "         date  ... workplaces_percent_change_from_baseline\n",
              "0  2020-03-18  ...                                     2.0\n",
              "1  2020-04-19  ...                                   -34.0\n",
              "2  2020-06-04  ...                                   -14.0\n",
              "3  2020-06-10  ...                                   -15.0\n",
              "4  2020-06-28  ...                                   -11.0\n",
              "\n",
              "[5 rows x 7 columns]"
            ]
          },
          "execution_count": 14,
          "metadata": {
            "tags": []
          },
          "output_type": "execute_result"
        }
      ],
      "source": [
        "df_comparison.head()"
      ]
    },
    {
      "cell_type": "code",
      "execution_count": 16,
      "metadata": {
        "id": "9qizZ3uiwYa3"
      },
      "outputs": [],
      "source": [
        "df_comparison.to_csv('df_comparison.csv', index=False)"
      ]
    },
    {
      "cell_type": "code",
      "execution_count": null,
      "metadata": {
        "id": "YZI4lw2dxp_G"
      },
      "outputs": [],
      "source": []
    }
  ],
  "metadata": {
    "colab": {
      "collapsed_sections": [],
      "name": "Untitled0.ipynb",
      "provenance": []
    },
    "interpreter": {
      "hash": "ad7757244c2b8882746e79adec62fa873e92546691252143a0aecf35974401b4"
    },
    "kernelspec": {
      "display_name": "Python 3.8.10 64-bit ('django': conda)",
      "name": "python3"
    },
    "language_info": {
      "name": "python",
      "version": ""
    }
  },
  "nbformat": 4,
  "nbformat_minor": 0
}