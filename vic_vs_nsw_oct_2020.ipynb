{
  "nbformat": 4,
  "nbformat_minor": 0,
  "metadata": {
    "colab": {
      "name": "vic-vs-nsw-oct-2020.ipynb",
      "provenance": [],
      "collapsed_sections": []
    },
    "kernelspec": {
      "name": "python3",
      "display_name": "Python 3"
    }
  },
  "cells": [
    {
      "cell_type": "code",
      "metadata": {
        "id": "2zC8yZAzFz-6"
      },
      "source": [
        "import pandas as pd\n",
        "import numpy as np\n",
        "%matplotlib inline\n",
        "import matplotlib.pyplot as plt\n",
        "import seaborn as sns\n",
        "from scipy.signal import savgol_filter\n",
        "from datetime import datetime"
      ],
      "execution_count": 1,
      "outputs": []
    },
    {
      "cell_type": "code",
      "metadata": {
        "id": "1moRDyiaMdjA"
      },
      "source": [
        "import matplotlib.dates as mdates\n",
        "import matplotlib as mpl\n",
        "\n",
        "mpl.rcParams['font.family'] = 'Arial'"
      ],
      "execution_count": 87,
      "outputs": []
    },
    {
      "cell_type": "code",
      "metadata": {
        "id": "dF130LLjHLoI"
      },
      "source": [
        "MEL_14DAY_AVG_VALUE = '34'\n",
        "\n",
        "\n",
        "PROJECT_ID = '<<INSERT PROJECT ID>>'"
      ],
      "execution_count": 2,
      "outputs": []
    },
    {
      "cell_type": "code",
      "metadata": {
        "id": "t-YNhed1GO9Y",
        "outputId": "77b92656-8a5e-40e0-f512-38f7f1e6fb61",
        "colab": {
          "base_uri": "https://localhost:8080/",
          "height": 34
        }
      },
      "source": [
        "from google.colab import auth\n",
        "auth.authenticate_user()\n",
        "print('Authenticated')"
      ],
      "execution_count": 3,
      "outputs": [
        {
          "output_type": "stream",
          "text": [
            "Authenticated\n"
          ],
          "name": "stdout"
        }
      ]
    },
    {
      "cell_type": "code",
      "metadata": {
        "id": "Zr_x1yfSHJy6"
      },
      "source": [
        "from google.cloud import bigquery\n",
        "\n",
        "client = bigquery.Client(project=PROJECT_ID)"
      ],
      "execution_count": 4,
      "outputs": []
    },
    {
      "cell_type": "markdown",
      "metadata": {
        "id": "CVxDNIsNYgkc"
      },
      "source": [
        "\n",
        "## New case details\n",
        "\n",
        "Query was adapted from prior analysis - much of this data is not used in this notebook\n"
      ]
    },
    {
      "cell_type": "code",
      "metadata": {
        "id": "O6207l4hZ7cR"
      },
      "source": [
        "df_eu = client.query(f\"\"\" \n",
        "\n",
        "WITH\n",
        "new_case_counts AS (\n",
        "\n",
        "-- Australia (include Melbourne 2nd wave)\n",
        "SELECT \n",
        "date,\n",
        "country_name,\n",
        "subregion1_name || ', ' || country_name as province_name,\n",
        "new_confirmed as new_cases\n",
        "FROM \n",
        "`bigquery-public-data.covid19_open_data.covid19_open_data` \n",
        "WHERE\n",
        "  country_name = 'Australia'\n",
        "  \n",
        "-- New Zealand (Auckland)\n",
        "UNION ALL \n",
        "\n",
        "SELECT \n",
        "date,\n",
        "country_name,\n",
        "country_name as province_name,\n",
        "SUM(new_confirmed) as new_cases\n",
        "FROM \n",
        "`bigquery-public-data.covid19_open_data.covid19_open_data` \n",
        "WHERE\n",
        "  country_name = 'New Zealand'\n",
        "GROUP BY 1, 2, 3),\n",
        "\n",
        "-- Apply moving average smoothing (14-day average)\n",
        "\n",
        "new_cases_smooth AS (\n",
        "SELECT\n",
        "*,\n",
        "AVG(new_cases) OVER (PARTITION BY province_name ORDER BY date ROWS BETWEEN 13 PRECEDING AND CURRENT ROW) as new_cases_moving_avg\n",
        "FROM new_case_counts\n",
        "WHERE new_cases IS NOT NULL),\n",
        "\n",
        "-- Find indication whether over intial peak\n",
        "max_cases_smooth_date AS (SELECT * FROM (\n",
        "SELECT \n",
        "province_name,\n",
        "date,\n",
        "new_cases_moving_avg,\n",
        "ROW_NUMBER() OVER (PARTITION BY province_name ORDER BY new_cases_moving_avg DESC) as rn\n",
        "FROM new_cases_smooth\n",
        ") t WHERE t.rn = 1),\n",
        "\n",
        "new_cases_smooth_peak_ind AS (\n",
        "SELECT \n",
        "A.*,\n",
        "B.date as peak_new_cases_date,\n",
        "B.new_cases_moving_avg as peak_new_cases_moving_avg,\n",
        "CASE WHEN A.date > B.date THEN 1 ELSE 0 END as after_peak_flag\n",
        "FROM new_cases_smooth A \n",
        "LEFT JOIN max_cases_smooth_date B \n",
        "  ON A.province_name = B.province_name),\n",
        "\n",
        "-- Find days with similar 14-day average and on a post-peak trend\n",
        "equiv_14day_average AS (SELECT * FROM (\n",
        "SELECT \n",
        "province_name,\n",
        "date,\n",
        "ROW_NUMBER() OVER (PARTITION BY province_name ORDER BY ABS(new_cases_moving_avg - 36)) as rn\n",
        "FROM new_cases_smooth_peak_ind\n",
        "WHERE after_peak_flag = 1\n",
        ") t WHERE t.rn = 1),\n",
        "\n",
        "new_cases_14day_avg_shifted AS (\n",
        "SELECT \n",
        "A.*,\n",
        "B.date as equiv_14day_average_date,\n",
        "DATE_DIFF(A.date, B.date, DAY) as days_from_equiv_14day_avg_val\n",
        "FROM new_cases_smooth_peak_ind A \n",
        "LEFT JOIN equiv_14day_average B \n",
        "  ON A.province_name = B.province_name)\n",
        "  \n",
        " SELECT \n",
        "date,\n",
        "country_name,\n",
        "province_name,\n",
        "new_cases,\n",
        "new_cases_moving_avg,\n",
        "peak_new_cases_date,\n",
        "peak_new_cases_moving_avg,\n",
        "after_peak_flag,\n",
        "equiv_14day_average_date,\n",
        "days_from_equiv_14day_avg_val\n",
        "FROM new_cases_14day_avg_shifted\n",
        "ORDER BY province_name, date\n",
        "\n",
        "\n",
        "\n",
        "\n",
        "\n",
        "\n",
        "\"\"\").to_dataframe()\n",
        "df_eu['date'] = pd.to_datetime(df_eu['date'])\n",
        "df_eu['peak_new_cases_date'] = pd.to_datetime(df_eu['peak_new_cases_date'])"
      ],
      "execution_count": 5,
      "outputs": []
    },
    {
      "cell_type": "code",
      "metadata": {
        "id": "62lWikPXZuJD"
      },
      "source": [
        "df_eu.to_csv('df_au_nz_new_cases.csv', index=False)"
      ],
      "execution_count": 6,
      "outputs": []
    },
    {
      "cell_type": "code",
      "metadata": {
        "id": "e6_0MyWzSDcb",
        "outputId": "6fa355ef-ada6-4e7e-d68d-847e5441f63b",
        "colab": {
          "base_uri": "https://localhost:8080/",
          "height": 609
        }
      },
      "source": [
        "## NSW data for July 3 appears to be anomalous\n",
        "## Will use values from NSW health directly to also exclude overseas arrivals\n",
        "df_eu[(df_eu['province_name'] == 'New South Wales, Australia') & (df_eu['date'] >= '2020-07-01')].sort_values('new_cases', ascending=False)"
      ],
      "execution_count": 132,
      "outputs": [
        {
          "output_type": "execute_result",
          "data": {
            "text/html": [
              "<div>\n",
              "<style scoped>\n",
              "    .dataframe tbody tr th:only-of-type {\n",
              "        vertical-align: middle;\n",
              "    }\n",
              "\n",
              "    .dataframe tbody tr th {\n",
              "        vertical-align: top;\n",
              "    }\n",
              "\n",
              "    .dataframe thead th {\n",
              "        text-align: right;\n",
              "    }\n",
              "</style>\n",
              "<table border=\"1\" class=\"dataframe\">\n",
              "  <thead>\n",
              "    <tr style=\"text-align: right;\">\n",
              "      <th></th>\n",
              "      <th>date</th>\n",
              "      <th>country_name</th>\n",
              "      <th>province_name</th>\n",
              "      <th>new_cases</th>\n",
              "      <th>new_cases_moving_avg</th>\n",
              "      <th>peak_new_cases_date</th>\n",
              "      <th>peak_new_cases_moving_avg</th>\n",
              "      <th>after_peak_flag</th>\n",
              "      <th>equiv_14day_average_date</th>\n",
              "      <th>days_from_equiv_14day_avg_val</th>\n",
              "    </tr>\n",
              "  </thead>\n",
              "  <tbody>\n",
              "    <tr>\n",
              "      <th>635</th>\n",
              "      <td>2020-07-03</td>\n",
              "      <td>Australia</td>\n",
              "      <td>New South Wales, Australia</td>\n",
              "      <td>189</td>\n",
              "      <td>18.357143</td>\n",
              "      <td>2020-04-04</td>\n",
              "      <td>147.0</td>\n",
              "      <td>1</td>\n",
              "      <td>2020-04-17</td>\n",
              "      <td>77.0</td>\n",
              "    </tr>\n",
              "    <tr>\n",
              "      <th>674</th>\n",
              "      <td>2020-08-11</td>\n",
              "      <td>Australia</td>\n",
              "      <td>New South Wales, Australia</td>\n",
              "      <td>22</td>\n",
              "      <td>14.142857</td>\n",
              "      <td>2020-04-04</td>\n",
              "      <td>147.0</td>\n",
              "      <td>1</td>\n",
              "      <td>2020-04-17</td>\n",
              "      <td>116.0</td>\n",
              "    </tr>\n",
              "    <tr>\n",
              "      <th>663</th>\n",
              "      <td>2020-07-31</td>\n",
              "      <td>Australia</td>\n",
              "      <td>New South Wales, Australia</td>\n",
              "      <td>20</td>\n",
              "      <td>15.785714</td>\n",
              "      <td>2020-04-04</td>\n",
              "      <td>147.0</td>\n",
              "      <td>1</td>\n",
              "      <td>2020-04-17</td>\n",
              "      <td>105.0</td>\n",
              "    </tr>\n",
              "    <tr>\n",
              "      <th>652</th>\n",
              "      <td>2020-07-20</td>\n",
              "      <td>Australia</td>\n",
              "      <td>New South Wales, Australia</td>\n",
              "      <td>20</td>\n",
              "      <td>11.357143</td>\n",
              "      <td>2020-04-04</td>\n",
              "      <td>147.0</td>\n",
              "      <td>1</td>\n",
              "      <td>2020-04-17</td>\n",
              "      <td>94.0</td>\n",
              "    </tr>\n",
              "    <tr>\n",
              "      <th>655</th>\n",
              "      <td>2020-07-23</td>\n",
              "      <td>Australia</td>\n",
              "      <td>New South Wales, Australia</td>\n",
              "      <td>19</td>\n",
              "      <td>12.857143</td>\n",
              "      <td>2020-04-04</td>\n",
              "      <td>147.0</td>\n",
              "      <td>1</td>\n",
              "      <td>2020-04-17</td>\n",
              "      <td>97.0</td>\n",
              "    </tr>\n",
              "    <tr>\n",
              "      <th>...</th>\n",
              "      <td>...</td>\n",
              "      <td>...</td>\n",
              "      <td>...</td>\n",
              "      <td>...</td>\n",
              "      <td>...</td>\n",
              "      <td>...</td>\n",
              "      <td>...</td>\n",
              "      <td>...</td>\n",
              "      <td>...</td>\n",
              "      <td>...</td>\n",
              "    </tr>\n",
              "    <tr>\n",
              "      <th>720</th>\n",
              "      <td>2020-09-26</td>\n",
              "      <td>Australia</td>\n",
              "      <td>New South Wales, Australia</td>\n",
              "      <td>1</td>\n",
              "      <td>4.357143</td>\n",
              "      <td>2020-04-04</td>\n",
              "      <td>147.0</td>\n",
              "      <td>1</td>\n",
              "      <td>2020-04-17</td>\n",
              "      <td>162.0</td>\n",
              "    </tr>\n",
              "    <tr>\n",
              "      <th>684</th>\n",
              "      <td>2020-08-21</td>\n",
              "      <td>Australia</td>\n",
              "      <td>New South Wales, Australia</td>\n",
              "      <td>1</td>\n",
              "      <td>9.285714</td>\n",
              "      <td>2020-04-04</td>\n",
              "      <td>147.0</td>\n",
              "      <td>1</td>\n",
              "      <td>2020-04-17</td>\n",
              "      <td>126.0</td>\n",
              "    </tr>\n",
              "    <tr>\n",
              "      <th>718</th>\n",
              "      <td>2020-09-24</td>\n",
              "      <td>Australia</td>\n",
              "      <td>New South Wales, Australia</td>\n",
              "      <td>1</td>\n",
              "      <td>5.071429</td>\n",
              "      <td>2020-04-04</td>\n",
              "      <td>147.0</td>\n",
              "      <td>1</td>\n",
              "      <td>2020-04-17</td>\n",
              "      <td>160.0</td>\n",
              "    </tr>\n",
              "    <tr>\n",
              "      <th>721</th>\n",
              "      <td>2020-09-27</td>\n",
              "      <td>Australia</td>\n",
              "      <td>New South Wales, Australia</td>\n",
              "      <td>0</td>\n",
              "      <td>3.714286</td>\n",
              "      <td>2020-04-04</td>\n",
              "      <td>147.0</td>\n",
              "      <td>1</td>\n",
              "      <td>2020-04-17</td>\n",
              "      <td>163.0</td>\n",
              "    </tr>\n",
              "    <tr>\n",
              "      <th>722</th>\n",
              "      <td>2020-09-28</td>\n",
              "      <td>Australia</td>\n",
              "      <td>New South Wales, Australia</td>\n",
              "      <td>0</td>\n",
              "      <td>3.428571</td>\n",
              "      <td>2020-04-04</td>\n",
              "      <td>147.0</td>\n",
              "      <td>1</td>\n",
              "      <td>2020-04-17</td>\n",
              "      <td>164.0</td>\n",
              "    </tr>\n",
              "  </tbody>\n",
              "</table>\n",
              "<p>94 rows × 10 columns</p>\n",
              "</div>"
            ],
            "text/plain": [
              "          date  ... days_from_equiv_14day_avg_val\n",
              "635 2020-07-03  ...                          77.0\n",
              "674 2020-08-11  ...                         116.0\n",
              "663 2020-07-31  ...                         105.0\n",
              "652 2020-07-20  ...                          94.0\n",
              "655 2020-07-23  ...                          97.0\n",
              "..         ...  ...                           ...\n",
              "720 2020-09-26  ...                         162.0\n",
              "684 2020-08-21  ...                         126.0\n",
              "718 2020-09-24  ...                         160.0\n",
              "721 2020-09-27  ...                         163.0\n",
              "722 2020-09-28  ...                         164.0\n",
              "\n",
              "[94 rows x 10 columns]"
            ]
          },
          "metadata": {
            "tags": []
          },
          "execution_count": 132
        }
      ]
    },
    {
      "cell_type": "code",
      "metadata": {
        "id": "iQjlRbOmxzeP",
        "outputId": "d86d0efa-7f8d-4605-f94a-6d9c8883010b",
        "colab": {
          "base_uri": "https://localhost:8080/",
          "height": 119
        }
      },
      "source": [
        "df_eu['province_name'].unique()"
      ],
      "execution_count": 8,
      "outputs": [
        {
          "output_type": "execute_result",
          "data": {
            "text/plain": [
              "array([None, 'Australian Capital Territory, Australia',\n",
              "       'New South Wales, Australia', 'New Zealand',\n",
              "       'Northern Territory, Australia', 'Queensland, Australia',\n",
              "       'South Australia, Australia', 'Tasmania, Australia',\n",
              "       'Victoria, Australia', 'Western Australia, Australia'],\n",
              "      dtype=object)"
            ]
          },
          "metadata": {
            "tags": []
          },
          "execution_count": 8
        }
      ]
    },
    {
      "cell_type": "code",
      "metadata": {
        "id": "TakhJ3Nmx3oy"
      },
      "source": [
        "provinces = ['Victoria, Australia', 'New South Wales, Australia', 'New Zealand']"
      ],
      "execution_count": 9,
      "outputs": []
    },
    {
      "cell_type": "code",
      "metadata": {
        "id": "jPzohlTnyCSE"
      },
      "source": [
        "## Data from NSW Health includes breakdown by source of infection\n",
        "df_nsw = pd.read_csv('https://data.nsw.gov.au/data/dataset/c647a815-5eb7-4df6-8c88-f9c537a4f21e/resource/2f1ba0f3-8c21-4a86-acaf-444be4401a6d/download/confirmed_cases_table3_likely_source.csv')"
      ],
      "execution_count": 133,
      "outputs": []
    },
    {
      "cell_type": "code",
      "metadata": {
        "id": "Wh-38A_nycIQ",
        "outputId": "f9990a40-1160-4ea7-f551-0084cc844d02",
        "colab": {
          "base_uri": "https://localhost:8080/",
          "height": 204
        }
      },
      "source": [
        "df_nsw.head()"
      ],
      "execution_count": 11,
      "outputs": [
        {
          "output_type": "execute_result",
          "data": {
            "text/html": [
              "<div>\n",
              "<style scoped>\n",
              "    .dataframe tbody tr th:only-of-type {\n",
              "        vertical-align: middle;\n",
              "    }\n",
              "\n",
              "    .dataframe tbody tr th {\n",
              "        vertical-align: top;\n",
              "    }\n",
              "\n",
              "    .dataframe thead th {\n",
              "        text-align: right;\n",
              "    }\n",
              "</style>\n",
              "<table border=\"1\" class=\"dataframe\">\n",
              "  <thead>\n",
              "    <tr style=\"text-align: right;\">\n",
              "      <th></th>\n",
              "      <th>notification_date</th>\n",
              "      <th>likely_source_of_infection</th>\n",
              "    </tr>\n",
              "  </thead>\n",
              "  <tbody>\n",
              "    <tr>\n",
              "      <th>0</th>\n",
              "      <td>2020-03-09</td>\n",
              "      <td>Overseas</td>\n",
              "    </tr>\n",
              "    <tr>\n",
              "      <th>1</th>\n",
              "      <td>2020-03-09</td>\n",
              "      <td>Locally acquired - contact of a confirmed case...</td>\n",
              "    </tr>\n",
              "    <tr>\n",
              "      <th>2</th>\n",
              "      <td>2020-03-09</td>\n",
              "      <td>Overseas</td>\n",
              "    </tr>\n",
              "    <tr>\n",
              "      <th>3</th>\n",
              "      <td>2020-03-09</td>\n",
              "      <td>Locally acquired - contact of a confirmed case...</td>\n",
              "    </tr>\n",
              "    <tr>\n",
              "      <th>4</th>\n",
              "      <td>2020-03-09</td>\n",
              "      <td>Locally acquired - contact of a confirmed case...</td>\n",
              "    </tr>\n",
              "  </tbody>\n",
              "</table>\n",
              "</div>"
            ],
            "text/plain": [
              "  notification_date                         likely_source_of_infection\n",
              "0        2020-03-09                                           Overseas\n",
              "1        2020-03-09  Locally acquired - contact of a confirmed case...\n",
              "2        2020-03-09                                           Overseas\n",
              "3        2020-03-09  Locally acquired - contact of a confirmed case...\n",
              "4        2020-03-09  Locally acquired - contact of a confirmed case..."
            ]
          },
          "metadata": {
            "tags": []
          },
          "execution_count": 11
        }
      ]
    },
    {
      "cell_type": "code",
      "metadata": {
        "id": "nCre3fWny4no"
      },
      "source": [
        "## NSW Healths data appears to have one case per row\n",
        "df_nsw['num_cases'] = 1\n",
        "df_nsw['date'] = pd.to_datetime(df_nsw['notification_date'])"
      ],
      "execution_count": 13,
      "outputs": []
    },
    {
      "cell_type": "code",
      "metadata": {
        "id": "Vt9NmMfhygF1",
        "outputId": "c3417209-d098-47f2-c1bd-dacf0b157b1b",
        "colab": {
          "base_uri": "https://localhost:8080/",
          "height": 102
        }
      },
      "source": [
        "df_nsw['likely_source_of_infection'].value_counts()"
      ],
      "execution_count": 14,
      "outputs": [
        {
          "output_type": "execute_result",
          "data": {
            "text/plain": [
              "Overseas                                                                    2135\n",
              "Locally acquired - contact of a confirmed case and/or in a known cluster    1386\n",
              "Locally acquired - source not identified                                     391\n",
              "Interstate                                                                    89\n",
              "Name: likely_source_of_infection, dtype: int64"
            ]
          },
          "metadata": {
            "tags": []
          },
          "execution_count": 14
        }
      ]
    },
    {
      "cell_type": "code",
      "metadata": {
        "id": "Ja9OFOPDymRM",
        "outputId": "2992935c-6aef-4871-d98e-f1d4dd4dcac0",
        "colab": {
          "base_uri": "https://localhost:8080/",
          "height": 204
        }
      },
      "source": [
        "df_nsw_counts = df_nsw.groupby(['date', 'likely_source_of_infection']).agg({\n",
        "    'num_cases': 'sum'\n",
        "}).reset_index()\n",
        "df_nsw_counts.head()"
      ],
      "execution_count": 15,
      "outputs": [
        {
          "output_type": "execute_result",
          "data": {
            "text/html": [
              "<div>\n",
              "<style scoped>\n",
              "    .dataframe tbody tr th:only-of-type {\n",
              "        vertical-align: middle;\n",
              "    }\n",
              "\n",
              "    .dataframe tbody tr th {\n",
              "        vertical-align: top;\n",
              "    }\n",
              "\n",
              "    .dataframe thead th {\n",
              "        text-align: right;\n",
              "    }\n",
              "</style>\n",
              "<table border=\"1\" class=\"dataframe\">\n",
              "  <thead>\n",
              "    <tr style=\"text-align: right;\">\n",
              "      <th></th>\n",
              "      <th>date</th>\n",
              "      <th>likely_source_of_infection</th>\n",
              "      <th>num_cases</th>\n",
              "    </tr>\n",
              "  </thead>\n",
              "  <tbody>\n",
              "    <tr>\n",
              "      <th>0</th>\n",
              "      <td>2020-03-09</td>\n",
              "      <td>Locally acquired - contact of a confirmed case...</td>\n",
              "      <td>7</td>\n",
              "    </tr>\n",
              "    <tr>\n",
              "      <th>1</th>\n",
              "      <td>2020-03-09</td>\n",
              "      <td>Locally acquired - source not identified</td>\n",
              "      <td>1</td>\n",
              "    </tr>\n",
              "    <tr>\n",
              "      <th>2</th>\n",
              "      <td>2020-03-09</td>\n",
              "      <td>Overseas</td>\n",
              "      <td>5</td>\n",
              "    </tr>\n",
              "    <tr>\n",
              "      <th>3</th>\n",
              "      <td>2020-03-10</td>\n",
              "      <td>Locally acquired - contact of a confirmed case...</td>\n",
              "      <td>2</td>\n",
              "    </tr>\n",
              "    <tr>\n",
              "      <th>4</th>\n",
              "      <td>2020-03-10</td>\n",
              "      <td>Overseas</td>\n",
              "      <td>4</td>\n",
              "    </tr>\n",
              "  </tbody>\n",
              "</table>\n",
              "</div>"
            ],
            "text/plain": [
              "        date                         likely_source_of_infection  num_cases\n",
              "0 2020-03-09  Locally acquired - contact of a confirmed case...          7\n",
              "1 2020-03-09           Locally acquired - source not identified          1\n",
              "2 2020-03-09                                           Overseas          5\n",
              "3 2020-03-10  Locally acquired - contact of a confirmed case...          2\n",
              "4 2020-03-10                                           Overseas          4"
            ]
          },
          "metadata": {
            "tags": []
          },
          "execution_count": 15
        }
      ]
    },
    {
      "cell_type": "code",
      "metadata": {
        "id": "kRAizECHy1NK",
        "outputId": "737cfe71-e9ee-4528-fd75-636bc085748d",
        "colab": {
          "base_uri": "https://localhost:8080/",
          "height": 623
        }
      },
      "source": [
        "fig, ax = plt.subplots(1, 1, figsize=(12, 10))\n",
        "sns.lineplot(x='date', y='num_cases', hue='likely_source_of_infection', data=df_nsw_counts)"
      ],
      "execution_count": 16,
      "outputs": [
        {
          "output_type": "execute_result",
          "data": {
            "text/plain": [
              "<matplotlib.axes._subplots.AxesSubplot at 0x7f902624b668>"
            ]
          },
          "metadata": {
            "tags": []
          },
          "execution_count": 16
        },
        {
          "output_type": "display_data",
          "data": {
            "image/png": "[encoded data removed]",
            "text/plain": [
              "<Figure size 864x720 with 1 Axes>"
            ]
          },
          "metadata": {
            "tags": [],
            "needs_background": "light"
          }
        }
      ]
    },
    {
      "cell_type": "code",
      "metadata": {
        "id": "Tf0GsAKYzuSe",
        "outputId": "8bba42c1-0ac6-40b8-b4c3-b2927e113e4c",
        "colab": {
          "base_uri": "https://localhost:8080/",
          "height": 419
        }
      },
      "source": [
        "df_nsw_counts_non_overseas = df_nsw[~df_nsw['likely_source_of_infection'].isin({'Overseas'})].groupby(['date']).agg({\n",
        "    'num_cases': 'sum'\n",
        "}).reset_index().rename(columns={'num_cases': 'new_cases'})\n",
        "df_nsw_counts_non_overseas"
      ],
      "execution_count": 18,
      "outputs": [
        {
          "output_type": "execute_result",
          "data": {
            "text/html": [
              "<div>\n",
              "<style scoped>\n",
              "    .dataframe tbody tr th:only-of-type {\n",
              "        vertical-align: middle;\n",
              "    }\n",
              "\n",
              "    .dataframe tbody tr th {\n",
              "        vertical-align: top;\n",
              "    }\n",
              "\n",
              "    .dataframe thead th {\n",
              "        text-align: right;\n",
              "    }\n",
              "</style>\n",
              "<table border=\"1\" class=\"dataframe\">\n",
              "  <thead>\n",
              "    <tr style=\"text-align: right;\">\n",
              "      <th></th>\n",
              "      <th>date</th>\n",
              "      <th>new_cases</th>\n",
              "    </tr>\n",
              "  </thead>\n",
              "  <tbody>\n",
              "    <tr>\n",
              "      <th>0</th>\n",
              "      <td>2020-03-09</td>\n",
              "      <td>8</td>\n",
              "    </tr>\n",
              "    <tr>\n",
              "      <th>1</th>\n",
              "      <td>2020-03-10</td>\n",
              "      <td>2</td>\n",
              "    </tr>\n",
              "    <tr>\n",
              "      <th>2</th>\n",
              "      <td>2020-03-11</td>\n",
              "      <td>9</td>\n",
              "    </tr>\n",
              "    <tr>\n",
              "      <th>3</th>\n",
              "      <td>2020-03-12</td>\n",
              "      <td>5</td>\n",
              "    </tr>\n",
              "    <tr>\n",
              "      <th>4</th>\n",
              "      <td>2020-03-13</td>\n",
              "      <td>6</td>\n",
              "    </tr>\n",
              "    <tr>\n",
              "      <th>...</th>\n",
              "      <td>...</td>\n",
              "      <td>...</td>\n",
              "    </tr>\n",
              "    <tr>\n",
              "      <th>141</th>\n",
              "      <td>2020-09-18</td>\n",
              "      <td>1</td>\n",
              "    </tr>\n",
              "    <tr>\n",
              "      <th>142</th>\n",
              "      <td>2020-09-19</td>\n",
              "      <td>1</td>\n",
              "    </tr>\n",
              "    <tr>\n",
              "      <th>143</th>\n",
              "      <td>2020-09-20</td>\n",
              "      <td>1</td>\n",
              "    </tr>\n",
              "    <tr>\n",
              "      <th>144</th>\n",
              "      <td>2020-09-23</td>\n",
              "      <td>1</td>\n",
              "    </tr>\n",
              "    <tr>\n",
              "      <th>145</th>\n",
              "      <td>2020-09-30</td>\n",
              "      <td>1</td>\n",
              "    </tr>\n",
              "  </tbody>\n",
              "</table>\n",
              "<p>146 rows × 2 columns</p>\n",
              "</div>"
            ],
            "text/plain": [
              "          date  new_cases\n",
              "0   2020-03-09          8\n",
              "1   2020-03-10          2\n",
              "2   2020-03-11          9\n",
              "3   2020-03-12          5\n",
              "4   2020-03-13          6\n",
              "..         ...        ...\n",
              "141 2020-09-18          1\n",
              "142 2020-09-19          1\n",
              "143 2020-09-20          1\n",
              "144 2020-09-23          1\n",
              "145 2020-09-30          1\n",
              "\n",
              "[146 rows x 2 columns]"
            ]
          },
          "metadata": {
            "tags": []
          },
          "execution_count": 18
        }
      ]
    },
    {
      "cell_type": "code",
      "metadata": {
        "id": "k_OH672FmCgd",
        "outputId": "b6e01878-2c97-4906-903b-b32069eca817",
        "colab": {
          "base_uri": "https://localhost:8080/",
          "height": 419
        }
      },
      "source": [
        "df_nsw_counts_all = df_nsw.groupby(['date']).agg({\n",
        "    'num_cases': 'sum'\n",
        "}).reset_index().rename(columns={'num_cases': 'new_cases'})\n",
        "df_nsw_counts_all"
      ],
      "execution_count": 19,
      "outputs": [
        {
          "output_type": "execute_result",
          "data": {
            "text/html": [
              "<div>\n",
              "<style scoped>\n",
              "    .dataframe tbody tr th:only-of-type {\n",
              "        vertical-align: middle;\n",
              "    }\n",
              "\n",
              "    .dataframe tbody tr th {\n",
              "        vertical-align: top;\n",
              "    }\n",
              "\n",
              "    .dataframe thead th {\n",
              "        text-align: right;\n",
              "    }\n",
              "</style>\n",
              "<table border=\"1\" class=\"dataframe\">\n",
              "  <thead>\n",
              "    <tr style=\"text-align: right;\">\n",
              "      <th></th>\n",
              "      <th>date</th>\n",
              "      <th>new_cases</th>\n",
              "    </tr>\n",
              "  </thead>\n",
              "  <tbody>\n",
              "    <tr>\n",
              "      <th>0</th>\n",
              "      <td>2020-03-09</td>\n",
              "      <td>13</td>\n",
              "    </tr>\n",
              "    <tr>\n",
              "      <th>1</th>\n",
              "      <td>2020-03-10</td>\n",
              "      <td>6</td>\n",
              "    </tr>\n",
              "    <tr>\n",
              "      <th>2</th>\n",
              "      <td>2020-03-11</td>\n",
              "      <td>16</td>\n",
              "    </tr>\n",
              "    <tr>\n",
              "      <th>3</th>\n",
              "      <td>2020-03-12</td>\n",
              "      <td>14</td>\n",
              "    </tr>\n",
              "    <tr>\n",
              "      <th>4</th>\n",
              "      <td>2020-03-13</td>\n",
              "      <td>19</td>\n",
              "    </tr>\n",
              "    <tr>\n",
              "      <th>...</th>\n",
              "      <td>...</td>\n",
              "      <td>...</td>\n",
              "    </tr>\n",
              "    <tr>\n",
              "      <th>192</th>\n",
              "      <td>2020-09-25</td>\n",
              "      <td>1</td>\n",
              "    </tr>\n",
              "    <tr>\n",
              "      <th>193</th>\n",
              "      <td>2020-09-28</td>\n",
              "      <td>5</td>\n",
              "    </tr>\n",
              "    <tr>\n",
              "      <th>194</th>\n",
              "      <td>2020-09-29</td>\n",
              "      <td>2</td>\n",
              "    </tr>\n",
              "    <tr>\n",
              "      <th>195</th>\n",
              "      <td>2020-09-30</td>\n",
              "      <td>4</td>\n",
              "    </tr>\n",
              "    <tr>\n",
              "      <th>196</th>\n",
              "      <td>2020-10-01</td>\n",
              "      <td>2</td>\n",
              "    </tr>\n",
              "  </tbody>\n",
              "</table>\n",
              "<p>197 rows × 2 columns</p>\n",
              "</div>"
            ],
            "text/plain": [
              "          date  new_cases\n",
              "0   2020-03-09         13\n",
              "1   2020-03-10          6\n",
              "2   2020-03-11         16\n",
              "3   2020-03-12         14\n",
              "4   2020-03-13         19\n",
              "..         ...        ...\n",
              "192 2020-09-25          1\n",
              "193 2020-09-28          5\n",
              "194 2020-09-29          2\n",
              "195 2020-09-30          4\n",
              "196 2020-10-01          2\n",
              "\n",
              "[197 rows x 2 columns]"
            ]
          },
          "metadata": {
            "tags": []
          },
          "execution_count": 19
        }
      ]
    },
    {
      "cell_type": "code",
      "metadata": {
        "id": "asZaCy8BkLv8"
      },
      "source": [
        "## Compute 14-day moving averages\n",
        "\n",
        "def get_moving_average(df, cases_col='new_cases', date_col='date', cases_avg_col='new_cases_moving_avg', window_days=14):\n",
        "  ## Make a contiguous date range\n",
        "  df_daterange = pd.DataFrame(pd.date_range(start=df[date_col].min(), end=df[date_col].max(), freq='D'), columns=[date_col])\n",
        "  df_w_dates = pd.merge(df_daterange,\n",
        "                        df,\n",
        "                        on=date_col,\n",
        "                        how='left')\n",
        "  df_w_dates[cases_col] = df_w_dates[cases_col].fillna(0)\n",
        "  df_w_dates[cases_avg_col] = df_w_dates[cases_col].rolling(window_days).mean()\n",
        "  df_w_dates['province_name'] = df_w_dates['province_name'].fillna(df_w_dates['province_name'].unique()[0])\n",
        "  return df_w_dates\n",
        "\n",
        "def get_analysis_days(df, peak_date, date_col='date', days_col='day'):\n",
        "  df['start_date'] = peak_date\n",
        "  df[days_col] = (df[date_col] - df['start_date']).apply(lambda x: x.days)\n",
        "  return df"
      ],
      "execution_count": 134,
      "outputs": []
    },
    {
      "cell_type": "code",
      "metadata": {
        "id": "djhIhPJZlQpX"
      },
      "source": [
        "##Analysis day = days since \"peak\" of interest:\n",
        "## VIC Wave 2 peak = 2020-08-08\n",
        "## NSW Wave 2 = Melbourne Wave 2 peak\n",
        "## NSW Wave 1 peak = 2020-04-05\n",
        "\n",
        "## NSW restaurants reopened May 15"
      ],
      "execution_count": 21,
      "outputs": []
    },
    {
      "cell_type": "code",
      "metadata": {
        "id": "yCbUOuPLlaDk"
      },
      "source": [
        "## Extract data for \"Wave 1\" and \"Wave 2\" of COVID-19\n",
        "df_vic_wave2 = df_eu[df_eu['province_name'] == 'Victoria, Australia'][['province_name', 'date', 'new_cases']]\n",
        "\n",
        "df_nsw_wave2 = df_nsw_counts_non_overseas[['date', 'new_cases']]\n",
        "df_nsw_wave2['province_name'] = 'NSW, Australia'\n",
        "\n",
        "df_nsw_wave1 = df_nsw_wave2.copy()\n",
        "\n",
        "df_nsw_wave1_all = df_nsw_counts_all[['date', 'new_cases']]\n",
        "df_nsw_wave1_all['province_name'] = 'NSW, Australia'"
      ],
      "execution_count": 135,
      "outputs": []
    },
    {
      "cell_type": "code",
      "metadata": {
        "id": "ay7cWWwunTYh"
      },
      "source": [
        "## Attach moving average and shift dates to relevant peaks\n",
        "\n",
        "df_vic_wave2_w_avg = get_moving_average(df_vic_wave2)\n",
        "df_vic_wave2_w_avg = get_analysis_days(df_vic_wave2_w_avg, datetime(2020, 8, 8))\n",
        "\n",
        "df_nsw_wave2_w_avg = get_moving_average(df_nsw_wave2)\n",
        "df_nsw_wave2_w_avg = get_analysis_days(df_nsw_wave2_w_avg, datetime(2020, 8, 8))\n",
        "\n",
        "df_nsw_wave1_w_avg = get_moving_average(df_nsw_wave1)\n",
        "df_nsw_wave1_w_avg = get_analysis_days(df_nsw_wave1_w_avg, datetime(2020, 4, 5))\n",
        "df_nsw_wave1_w_avg['province_name'] = 'NSW - Wave 1 excluding overseas'\n",
        "\n",
        "df_nsw_wave1_w_avg_all = get_moving_average(df_nsw_wave1_all)\n",
        "df_nsw_wave1_w_avg_all = get_analysis_days(df_nsw_wave1_w_avg_all, datetime(2020, 4, 5))\n",
        "df_nsw_wave1_w_avg_all['province_name'] = 'NSW'"
      ],
      "execution_count": 136,
      "outputs": []
    },
    {
      "cell_type": "code",
      "metadata": {
        "id": "NBE9tl_hph_0"
      },
      "source": [
        "## Concatenate the samples\n",
        "df_data = pd.concat([df_vic_wave2_w_avg, df_nsw_wave2_w_avg, df_nsw_wave1_w_avg, df_nsw_wave1_w_avg_all])"
      ],
      "execution_count": 137,
      "outputs": []
    },
    {
      "cell_type": "code",
      "metadata": {
        "id": "BBV4DbH2nhNh",
        "outputId": "cedf7a53-09ad-4fde-e958-b0100ea6e58c",
        "colab": {
          "base_uri": "https://localhost:8080/",
          "height": 419
        }
      },
      "source": [
        "df_data"
      ],
      "execution_count": 138,
      "outputs": [
        {
          "output_type": "execute_result",
          "data": {
            "text/html": [
              "<div>\n",
              "<style scoped>\n",
              "    .dataframe tbody tr th:only-of-type {\n",
              "        vertical-align: middle;\n",
              "    }\n",
              "\n",
              "    .dataframe tbody tr th {\n",
              "        vertical-align: top;\n",
              "    }\n",
              "\n",
              "    .dataframe thead th {\n",
              "        text-align: right;\n",
              "    }\n",
              "</style>\n",
              "<table border=\"1\" class=\"dataframe\">\n",
              "  <thead>\n",
              "    <tr style=\"text-align: right;\">\n",
              "      <th></th>\n",
              "      <th>date</th>\n",
              "      <th>province_name</th>\n",
              "      <th>new_cases</th>\n",
              "      <th>new_cases_moving_avg</th>\n",
              "      <th>start_date</th>\n",
              "      <th>day</th>\n",
              "    </tr>\n",
              "  </thead>\n",
              "  <tbody>\n",
              "    <tr>\n",
              "      <th>0</th>\n",
              "      <td>2020-01-27</td>\n",
              "      <td>Victoria, Australia</td>\n",
              "      <td>0.0</td>\n",
              "      <td>NaN</td>\n",
              "      <td>2020-08-08</td>\n",
              "      <td>-194</td>\n",
              "    </tr>\n",
              "    <tr>\n",
              "      <th>1</th>\n",
              "      <td>2020-01-28</td>\n",
              "      <td>Victoria, Australia</td>\n",
              "      <td>0.0</td>\n",
              "      <td>NaN</td>\n",
              "      <td>2020-08-08</td>\n",
              "      <td>-193</td>\n",
              "    </tr>\n",
              "    <tr>\n",
              "      <th>2</th>\n",
              "      <td>2020-01-29</td>\n",
              "      <td>Victoria, Australia</td>\n",
              "      <td>1.0</td>\n",
              "      <td>NaN</td>\n",
              "      <td>2020-08-08</td>\n",
              "      <td>-192</td>\n",
              "    </tr>\n",
              "    <tr>\n",
              "      <th>3</th>\n",
              "      <td>2020-01-30</td>\n",
              "      <td>Victoria, Australia</td>\n",
              "      <td>1.0</td>\n",
              "      <td>NaN</td>\n",
              "      <td>2020-08-08</td>\n",
              "      <td>-191</td>\n",
              "    </tr>\n",
              "    <tr>\n",
              "      <th>4</th>\n",
              "      <td>2020-01-31</td>\n",
              "      <td>Victoria, Australia</td>\n",
              "      <td>0.0</td>\n",
              "      <td>NaN</td>\n",
              "      <td>2020-08-08</td>\n",
              "      <td>-190</td>\n",
              "    </tr>\n",
              "    <tr>\n",
              "      <th>...</th>\n",
              "      <td>...</td>\n",
              "      <td>...</td>\n",
              "      <td>...</td>\n",
              "      <td>...</td>\n",
              "      <td>...</td>\n",
              "      <td>...</td>\n",
              "    </tr>\n",
              "    <tr>\n",
              "      <th>202</th>\n",
              "      <td>2020-09-27</td>\n",
              "      <td>NSW</td>\n",
              "      <td>0.0</td>\n",
              "      <td>3.214286</td>\n",
              "      <td>2020-04-05</td>\n",
              "      <td>175</td>\n",
              "    </tr>\n",
              "    <tr>\n",
              "      <th>203</th>\n",
              "      <td>2020-09-28</td>\n",
              "      <td>NSW</td>\n",
              "      <td>5.0</td>\n",
              "      <td>3.071429</td>\n",
              "      <td>2020-04-05</td>\n",
              "      <td>176</td>\n",
              "    </tr>\n",
              "    <tr>\n",
              "      <th>204</th>\n",
              "      <td>2020-09-29</td>\n",
              "      <td>NSW</td>\n",
              "      <td>2.0</td>\n",
              "      <td>2.857143</td>\n",
              "      <td>2020-04-05</td>\n",
              "      <td>177</td>\n",
              "    </tr>\n",
              "    <tr>\n",
              "      <th>205</th>\n",
              "      <td>2020-09-30</td>\n",
              "      <td>NSW</td>\n",
              "      <td>4.0</td>\n",
              "      <td>2.642857</td>\n",
              "      <td>2020-04-05</td>\n",
              "      <td>178</td>\n",
              "    </tr>\n",
              "    <tr>\n",
              "      <th>206</th>\n",
              "      <td>2020-10-01</td>\n",
              "      <td>NSW</td>\n",
              "      <td>2.0</td>\n",
              "      <td>2.571429</td>\n",
              "      <td>2020-04-05</td>\n",
              "      <td>179</td>\n",
              "    </tr>\n",
              "  </tbody>\n",
              "</table>\n",
              "<p>869 rows × 6 columns</p>\n",
              "</div>"
            ],
            "text/plain": [
              "          date        province_name  ...  start_date  day\n",
              "0   2020-01-27  Victoria, Australia  ...  2020-08-08 -194\n",
              "1   2020-01-28  Victoria, Australia  ...  2020-08-08 -193\n",
              "2   2020-01-29  Victoria, Australia  ...  2020-08-08 -192\n",
              "3   2020-01-30  Victoria, Australia  ...  2020-08-08 -191\n",
              "4   2020-01-31  Victoria, Australia  ...  2020-08-08 -190\n",
              "..         ...                  ...  ...         ...  ...\n",
              "202 2020-09-27                  NSW  ...  2020-04-05  175\n",
              "203 2020-09-28                  NSW  ...  2020-04-05  176\n",
              "204 2020-09-29                  NSW  ...  2020-04-05  177\n",
              "205 2020-09-30                  NSW  ...  2020-04-05  178\n",
              "206 2020-10-01                  NSW  ...  2020-04-05  179\n",
              "\n",
              "[869 rows x 6 columns]"
            ]
          },
          "metadata": {
            "tags": []
          },
          "execution_count": 138
        }
      ]
    },
    {
      "cell_type": "code",
      "metadata": {
        "id": "4ISWLQzwnkmZ",
        "outputId": "58f06db0-3a83-4216-c53a-71e74b520c2f",
        "colab": {
          "base_uri": "https://localhost:8080/",
          "height": 913
        }
      },
      "source": [
        "fig, ax = plt.subplots(1, 1, figsize=(12, 10))\n",
        "df_data_plot = df_data[df_data['province_name'].isin({'Victoria, Australia', 'NSW - Wave 1 excluding overseas'})]\n",
        "\n",
        "sns.lineplot(x='date', \n",
        "             y='new_cases_moving_avg', \n",
        "             hue='province_name', \n",
        "             data=df_data_plot)\n",
        "\n",
        "dt_chart_start = datetime(2020, 6, 1)\n",
        "dt_chart_end = datetime(2020, 10, 1)\n",
        "xlim_values = (mdates.date2num(dt_chart_start), mdates.date2num(dt_chart_end))\n",
        "ylim_values = (0, 470)\n",
        "\n",
        "ax.set_xlim(xlim_values)\n",
        "ax.set_ylim(ylim_values)\n",
        "ax.get_legend().remove()\n",
        "ax.set_ylabel('New cases\\n14-day average', rotation=0, fontsize=12, labelpad=60)\n",
        "ax.set_xlabel('Date', fontsize=12, labelpad=20)\n",
        "ax.text(mdates.date2num(datetime(2020, 7, 12)), 215, 'Victoria', alpha=0.5)\n",
        "ax.text(mdates.date2num(datetime(2020, 8, 1)), 17, 'NSW: peak=13.1 cases/day ', alpha=0.5)\n",
        "ax.xaxis.set_major_formatter(mdates.DateFormatter('%-d %b'))\n",
        "ax.set_title('Victoria COVID Wave 2: Comparison with NSW (excl. overseas cases)')\n",
        "ax.plot(xlim_values, [5.0]*2, color=(0.5, 0.5, 0.5), alpha=0.8)\n",
        "ax.text(xlim_values[0]+0.5, 6, '5.0 daily average', alpha=0.5)\n",
        "\n",
        "\n",
        "ax.set_xlim(xlim_values)\n",
        "ax.set_ylim(ylim_values)\n",
        "\n",
        "\n",
        "df_data_nsw_thresholds = df_data_plot[(df_data_plot['date'] >= dt_chart_start) & (df_data_plot['date'] <= dt_chart_end)]\n",
        "\n",
        "print('Peak values')\n",
        "print(df_data_nsw_thresholds.sort_values('new_cases_moving_avg', ascending=False)\\\n",
        ".groupby('province_name')\\\n",
        ".agg({\n",
        "    'new_cases_moving_avg': 'max'\n",
        "}))\n",
        "\n",
        "print('\\n\\n')\n",
        "print(df_data_nsw_thresholds[df_data_nsw_thresholds['new_cases_moving_avg'] > 5].groupby('province_name').agg({\n",
        "    'date': ['min', 'max']\n",
        "}))\n",
        "\n",
        "print('\\n\\n')\n",
        "plt.show()\n"
      ],
      "execution_count": 152,
      "outputs": [
        {
          "output_type": "stream",
          "text": [
            "Peak values\n",
            "                                 new_cases_moving_avg\n",
            "province_name                                        \n",
            "NSW - Wave 1 excluding overseas             13.071429\n",
            "Victoria, Australia                        467.071429\n",
            "\n",
            "\n",
            "\n",
            "                                      date           \n",
            "                                       min        max\n",
            "province_name                                        \n",
            "NSW - Wave 1 excluding overseas 2020-07-18 2020-09-14\n",
            "Victoria, Australia             2020-06-01 2020-10-01\n",
            "\n",
            "\n",
            "\n"
          ],
          "name": "stdout"
        },
        {
          "output_type": "display_data",
          "data": {
            "image/png": "[encoded data removed]",
            "text/plain": [
              "<Figure size 864x720 with 1 Axes>"
            ]
          },
          "metadata": {
            "tags": [],
            "needs_background": "light"
          }
        }
      ]
    },
    {
      "cell_type": "code",
      "metadata": {
        "id": "xcu_PG3Yoz2R"
      },
      "source": [
        ""
      ],
      "execution_count": null,
      "outputs": []
    },
    {
      "cell_type": "code",
      "metadata": {
        "id": "zU_9TZursXCF",
        "outputId": "b44dcd38-5fd1-4bc6-ba0b-3b574c53a030",
        "colab": {
          "base_uri": "https://localhost:8080/",
          "height": 743
        }
      },
      "source": [
        "fig, ax = plt.subplots(1, 1, figsize=(12, 10))\n",
        "\n",
        "df_data_nsw_plot = df_data[df_data['province_name'].isin({'NSW', 'NSW - Wave 1 excluding overseas'})].sort_values(['province_name', 'date'])\n",
        "\n",
        "xlim_values = (mdates.date2num(datetime(2020, 3, 22)), mdates.date2num(datetime(2020, 5, 27)))\n",
        "ylim_values = (0, 150)\n",
        "\n",
        "sns.lineplot(x='date', \n",
        "             y='new_cases_moving_avg', \n",
        "             style='province_name', \n",
        "             data=df_data_nsw_plot)\n",
        "ax.plot([mdates.date2num(datetime(2020, 5, 15))]*2, ylim_values, color=(0.5, 0.5, 0.5), alpha=0.8)\n",
        "ax.plot(xlim_values, [5.0]*2, color=(0.5, 0.5, 0.5), alpha=0.8)\n",
        "ax.set_xlim(xlim_values)\n",
        "ax.set_ylim(ylim_values)\n",
        "ax.get_legend().remove()\n",
        "ax.set_ylabel('New cases\\n14-day average', rotation=0, fontsize=12, labelpad=60)\n",
        "ax.set_xlabel('Date', fontsize=12, labelpad=20)\n",
        "ax.text(mdates.date2num(datetime(2020, 3, 30)), 33, 'NSW excl.\\noverseas cases', alpha=0.5)\n",
        "ax.text(mdates.date2num(datetime(2020, 3, 27)), 100, 'NSW', alpha=0.5)\n",
        "ax.xaxis.set_major_formatter(mdates.DateFormatter('%-d %b'))\n",
        "ax.set_title('NSW COVID-19 Wave 1: Reopening of hospitality')\n",
        "ax.text(mdates.date2num(datetime(2020, 5, 15))+0.5, 80, 'May 15\\nHospitality\\nreopens', alpha=0.5)\n",
        "ax.text(mdates.date2num(datetime(2020, 3, 22))+0.5, 6, '5.0 daily average', alpha=0.5)\n",
        "ax.text(mdates.date2num(datetime(2020, 5, 15))+0.5, 10, '14-day average\\nNSW overall=2.7\\nExcl. overseas=1.8')\n",
        "\n",
        "print(df_data_nsw_plot[df_data_nsw_plot['date'] == datetime(2020, 5, 15)][['date', 'province_name', 'new_cases_moving_avg']])\n",
        "print('\\n\\n')\n",
        "plt.show()"
      ],
      "execution_count": 141,
      "outputs": [
        {
          "output_type": "stream",
          "text": [
            "         date                    province_name  new_cases_moving_avg\n",
            "67 2020-05-15                              NSW              2.714286\n",
            "67 2020-05-15  NSW - Wave 1 excluding overseas              1.785714\n",
            "\n",
            "\n",
            "\n"
          ],
          "name": "stdout"
        },
        {
          "output_type": "display_data",
          "data": {
            "image/png": "[encoded data removed]",
            "text/plain": [
              "<Figure size 864x720 with 1 Axes>"
            ]
          },
          "metadata": {
            "tags": [],
            "needs_background": "light"
          }
        }
      ]
    },
    {
      "cell_type": "code",
      "metadata": {
        "id": "OUetjNm-sfOd"
      },
      "source": [
        "df_data.to_csv('df_data_vic_nsw.csv', index=False)"
      ],
      "execution_count": 142,
      "outputs": []
    }
  ]
}