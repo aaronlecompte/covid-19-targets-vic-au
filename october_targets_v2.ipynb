{
  "nbformat": 4,
  "nbformat_minor": 0,
  "metadata": {
    "colab": {
      "name": "october-targets-v2.ipynb",
      "provenance": [],
      "collapsed_sections": [],
      "authorship_tag": "ABX9TyNdKunW+qGefXaVUbdmiaYR"
    },
    "kernelspec": {
      "name": "python3",
      "display_name": "Python 3"
    }
  },
  "cells": [
    {
      "cell_type": "code",
      "metadata": {
        "id": "2zC8yZAzFz-6",
        "colab_type": "code",
        "colab": {}
      },
      "source": [
        "import pandas as pd\n",
        "import numpy as np\n",
        "%matplotlib inline\n",
        "import matplotlib.pyplot as plt\n",
        "import seaborn as sns\n",
        "from scipy.signal import savgol_filter\n",
        "from datetime import datetime"
      ],
      "execution_count": null,
      "outputs": []
    },
    {
      "cell_type": "code",
      "metadata": {
        "id": "dF130LLjHLoI",
        "colab_type": "code",
        "colab": {}
      },
      "source": [
        "MEL_14DAY_AVG_VALUE = '34'\n",
        "\n",
        "\n",
        "PROJECT_ID = '<<PROJECT_ID>>'"
      ],
      "execution_count": null,
      "outputs": []
    },
    {
      "cell_type": "code",
      "metadata": {
        "id": "t-YNhed1GO9Y",
        "colab_type": "code",
        "colab": {
          "base_uri": "https://localhost:8080/",
          "height": 34
        },
        "outputId": "1ea03480-f653-4597-98be-6d8ecdd7fb4a"
      },
      "source": [
        "from google.colab import auth\n",
        "auth.authenticate_user()\n",
        "print('Authenticated')"
      ],
      "execution_count": null,
      "outputs": [
        {
          "output_type": "stream",
          "text": [
            "Authenticated\n"
          ],
          "name": "stdout"
        }
      ]
    },
    {
      "cell_type": "code",
      "metadata": {
        "id": "Zr_x1yfSHJy6",
        "colab_type": "code",
        "colab": {}
      },
      "source": [
        "from google.cloud import bigquery\n",
        "\n",
        "client = bigquery.Client(project=PROJECT_ID)"
      ],
      "execution_count": null,
      "outputs": []
    },
    {
      "cell_type": "markdown",
      "metadata": {
        "id": "CVxDNIsNYgkc",
        "colab_type": "text"
      },
      "source": [
        "\n",
        "## New case details\n"
      ]
    },
    {
      "cell_type": "code",
      "metadata": {
        "id": "O6207l4hZ7cR",
        "colab_type": "code",
        "colab": {}
      },
      "source": [
        "df_eu = client.query(f\"\"\" \n",
        "WITH \n",
        "regions_over_100 AS (\n",
        "-- Filter to only regions that had > 100 new daily cases\n",
        "SELECT DISTINCT country_name, subregion1_name\n",
        "FROM \n",
        "`bigquery-public-data.covid19_open_data.covid19_open_data` \n",
        "WHERE new_confirmed > 100),\n",
        "\n",
        "new_case_counts AS (\n",
        "-- Select approx. 596 provinces worldwide\n",
        "SELECT \n",
        "A.date,\n",
        "A.country_name,\n",
        "A.subregion1_name || ', ' || A.country_name as province_name,\n",
        "SUM(A.new_confirmed) as new_cases\n",
        "FROM \n",
        "`bigquery-public-data.covid19_open_data.covid19_open_data` A\n",
        "INNER JOIN regions_over_100 B\n",
        "  ON A.country_name = B.country_name\n",
        "  AND A.subregion1_name = B.subregion1_name\n",
        "WHERE\n",
        "  A.country_name <> 'Australia'\n",
        "  AND A.subregion1_name IS NOT NULL\n",
        "  AND A.subregion2_name IS NULL\n",
        "  AND A.date < CAST('2020-08-01' as DATE)\n",
        "GROUP BY 1, 2, 3\n",
        "\n",
        "UNION ALL \n",
        "\n",
        "-- Australia (include Melbourne 2nd wave)\n",
        "SELECT \n",
        "date,\n",
        "country_name,\n",
        "subregion1_name || ', ' || country_name as province_name,\n",
        "new_confirmed as new_cases\n",
        "FROM \n",
        "`bigquery-public-data.covid19_open_data.covid19_open_data` \n",
        "WHERE\n",
        "  country_name = 'Australia'\n",
        "  \n",
        "-- New Zealand (Auckland)\n",
        "UNION ALL \n",
        "\n",
        "SELECT \n",
        "date,\n",
        "country_name,\n",
        "country_name as province_name,\n",
        "SUM(new_confirmed) as new_cases\n",
        "FROM \n",
        "`bigquery-public-data.covid19_open_data.covid19_open_data` \n",
        "WHERE\n",
        "  country_name = 'New Zealand'\n",
        "GROUP BY 1, 2, 3),\n",
        "\n",
        "-- Apply moving average smoothing (14-day average)\n",
        "\n",
        "new_cases_smooth AS (\n",
        "SELECT\n",
        "*,\n",
        "AVG(new_cases) OVER (PARTITION BY province_name ORDER BY date ROWS BETWEEN 13 PRECEDING AND CURRENT ROW) as new_cases_moving_avg\n",
        "FROM new_case_counts\n",
        "WHERE new_cases IS NOT NULL),\n",
        "\n",
        "-- Find indication whether over intial peak\n",
        "max_cases_smooth_date AS (SELECT * FROM (\n",
        "SELECT \n",
        "province_name,\n",
        "date,\n",
        "new_cases_moving_avg,\n",
        "ROW_NUMBER() OVER (PARTITION BY province_name ORDER BY new_cases_moving_avg DESC) as rn\n",
        "FROM new_cases_smooth\n",
        ") t WHERE t.rn = 1),\n",
        "\n",
        "new_cases_smooth_peak_ind AS (\n",
        "SELECT \n",
        "A.*,\n",
        "B.date as peak_new_cases_date,\n",
        "B.new_cases_moving_avg as peak_new_cases_moving_avg,\n",
        "CASE WHEN A.date > B.date THEN 1 ELSE 0 END as after_peak_flag\n",
        "FROM new_cases_smooth A \n",
        "LEFT JOIN max_cases_smooth_date B \n",
        "  ON A.province_name = B.province_name),\n",
        "\n",
        "-- Find days with similar 14-day average and on a post-peak trend\n",
        "equiv_14day_average AS (SELECT * FROM (\n",
        "SELECT \n",
        "province_name,\n",
        "date,\n",
        "ROW_NUMBER() OVER (PARTITION BY province_name ORDER BY ABS(new_cases_moving_avg - 36)) as rn\n",
        "FROM new_cases_smooth_peak_ind\n",
        "WHERE after_peak_flag = 1\n",
        ") t WHERE t.rn = 1),\n",
        "\n",
        "new_cases_14day_avg_shifted AS (\n",
        "SELECT \n",
        "A.*,\n",
        "B.date as equiv_14day_average_date,\n",
        "DATE_DIFF(A.date, B.date, DAY) as days_from_equiv_14day_avg_val\n",
        "FROM new_cases_smooth_peak_ind A \n",
        "LEFT JOIN equiv_14day_average B \n",
        "  ON A.province_name = B.province_name)\n",
        "  \n",
        " SELECT \n",
        "date,\n",
        "country_name,\n",
        "province_name,\n",
        "new_cases,\n",
        "new_cases_moving_avg,\n",
        "peak_new_cases_date,\n",
        "peak_new_cases_moving_avg,\n",
        "after_peak_flag,\n",
        "equiv_14day_average_date,\n",
        "days_from_equiv_14day_avg_val\n",
        "FROM new_cases_14day_avg_shifted\n",
        "ORDER BY province_name, date\n",
        "\n",
        "\n",
        "\n",
        "\n",
        "\n",
        "\n",
        "\"\"\").to_dataframe()\n",
        "df_eu['date'] = pd.to_datetime(df_eu['date'])\n",
        "df_eu['peak_new_cases_date'] = pd.to_datetime(df_eu['peak_new_cases_date'])"
      ],
      "execution_count": null,
      "outputs": []
    },
    {
      "cell_type": "code",
      "metadata": {
        "id": "62lWikPXZuJD",
        "colab_type": "code",
        "colab": {}
      },
      "source": [
        "df_eu.to_csv('df_world_new_cases.csv', index=False)"
      ],
      "execution_count": null,
      "outputs": []
    },
    {
      "cell_type": "code",
      "metadata": {
        "id": "3dB_Fos4VEa_",
        "colab_type": "code",
        "colab": {}
      },
      "source": [
        ""
      ],
      "execution_count": null,
      "outputs": []
    },
    {
      "cell_type": "code",
      "metadata": {
        "id": "gQS96Tq-VEQd",
        "colab_type": "code",
        "colab": {}
      },
      "source": [
        ""
      ],
      "execution_count": null,
      "outputs": []
    }
  ]
}